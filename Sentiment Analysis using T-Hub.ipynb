{
 "cells": [
  {
   "cell_type": "code",
   "execution_count": 1,
   "metadata": {
    "colab": {
     "base_uri": "https://localhost:8080/"
    },
    "id": "3KVoLCxn1BgM",
    "outputId": "55fff4e5-51ab-4d43-9766-56eecd04b785"
   },
   "outputs": [
    {
     "name": "stderr",
     "output_type": "stream",
     "text": [
      "[nltk_data] Downloading package stopwords to /root/nltk_data...\n",
      "[nltk_data]   Package stopwords is already up-to-date!\n",
      "[nltk_data] Downloading package punkt to /root/nltk_data...\n",
      "[nltk_data]   Package punkt is already up-to-date!\n",
      "[nltk_data] Downloading package averaged_perceptron_tagger to\n",
      "[nltk_data]     /root/nltk_data...\n",
      "[nltk_data]   Package averaged_perceptron_tagger is already up-to-\n",
      "[nltk_data]       date!\n"
     ]
    }
   ],
   "source": [
    "import warnings\n",
    "warnings.filterwarnings(\"ignore\")\n",
    "\n",
    "import pandas as pd\n",
    "import numpy as np\n",
    "import math\n",
    "import os\n",
    "import seaborn as sns\n",
    "import scipy.stats as ss\n",
    "import matplotlib.pyplot as plt\n",
    "from collections import Counter\n",
    "import itertools\n",
    "import seaborn as sns\n",
    "\n",
    "import matplotlib.pyplot as plt\n",
    "%matplotlib inline\n",
    "\n",
    "from sklearn.model_selection import train_test_split\n",
    "from sklearn.preprocessing import MinMaxScaler\n",
    "\n",
    "from sklearn.linear_model import Lasso\n",
    "from sklearn.feature_selection import SelectFromModel, SelectKBest, f_classif, chi2\n",
    "from sklearn.model_selection import train_test_split, cross_val_score\n",
    "from sklearn.preprocessing import LabelEncoder, LabelBinarizer, OrdinalEncoder, OneHotEncoder\n",
    "from sklearn.metrics import roc_auc_score, auc, roc_curve\n",
    "from sklearn.metrics import precision_score, accuracy_score, recall_score, f1_score, classification_report, confusion_matrix\n",
    "\n",
    "from tensorflow import keras\n",
    "from keras.models import Sequential\n",
    "from keras.layers import Dense, Dropout, BatchNormalization\n",
    "from keras.wrappers.scikit_learn import KerasClassifier\n",
    "from keras.callbacks import EarlyStopping\n",
    "from keras import regularizers\n",
    "import pathlib\n",
    "import shutil\n",
    "import tempfile\n",
    "\n",
    "import tensorflow as tf\n",
    "import re, string, nltk\n",
    "nltk.download('stopwords')\n",
    "nltk.download('punkt')\n",
    "nltk.download('averaged_perceptron_tagger')\n",
    "from nltk.corpus import stopwords\n",
    "stop = set(stopwords.words('english'))\n",
    "from nltk.corpus import stopwords\n",
    "from nltk.stem import SnowballStemmer \n",
    "from nltk.tokenize import RegexpTokenizer\n",
    "\n",
    "!pip install -q git+https://github.com/tensorflow/docs\n",
    "    \n",
    "import tensorflow_docs as tfdocs\n",
    "import tensorflow_docs.modeling\n",
    "import tensorflow_docs.plots\n",
    "\n",
    "import pathlib\n",
    "import shutil\n",
    "import tempfile\n",
    "\n",
    "pd.set_option('display.max_columns', None)  \n",
    "pd.set_option('display.expand_frame_repr', False)\n",
    "pd.set_option('max_colwidth', -1)"
   ]
  },
  {
   "cell_type": "code",
   "execution_count": 2,
   "metadata": {
    "colab": {
     "base_uri": "https://localhost:8080/"
    },
    "id": "EBf74sA-56a1",
    "outputId": "de440bc2-18a2-4e4c-8571-d5d3bcb60a8e"
   },
   "outputs": [
    {
     "name": "stdout",
     "output_type": "stream",
     "text": [
      "Version:  2.8.2\n",
      "Hub version:  0.12.0\n",
      "GPU is available\n"
     ]
    }
   ],
   "source": [
    "import tensorflow_hub as hub\n",
    "print(\"Version: \", tf.__version__)\n",
    "print(\"Hub version: \", hub.__version__)\n",
    "print(\"GPU is\", \"available\" if tf.config.list_physical_devices('GPU') else \"NOT AVAILABLE\")"
   ]
  },
  {
   "cell_type": "code",
   "execution_count": 3,
   "metadata": {
    "colab": {
     "base_uri": "https://localhost:8080/"
    },
    "id": "VzoIIcJt9Jex",
    "outputId": "19f9e4a2-23fa-48a0-921e-193b1b3c83e3"
   },
   "outputs": [
    {
     "name": "stdout",
     "output_type": "stream",
     "text": [
      "Drive already mounted at /content/drive; to attempt to forcibly remount, call drive.mount(\"/content/drive\", force_remount=True).\n"
     ]
    }
   ],
   "source": [
    "from google.colab import drive\n",
    "drive.mount('/content/drive')"
   ]
  },
  {
   "cell_type": "code",
   "execution_count": 4,
   "metadata": {
    "colab": {
     "base_uri": "https://localhost:8080/",
     "height": 269
    },
    "id": "-hlQYCwe1TxY",
    "outputId": "8b12a430-3c7d-44f3-8caa-99f29b2ec5aa"
   },
   "outputs": [
    {
     "data": {
      "text/html": [
       "\n",
       "  <div id=\"df-409a0264-5a9c-495c-ae4a-8ca01173b263\">\n",
       "    <div class=\"colab-df-container\">\n",
       "      <div>\n",
       "<style scoped>\n",
       "    .dataframe tbody tr th:only-of-type {\n",
       "        vertical-align: middle;\n",
       "    }\n",
       "\n",
       "    .dataframe tbody tr th {\n",
       "        vertical-align: top;\n",
       "    }\n",
       "\n",
       "    .dataframe thead th {\n",
       "        text-align: right;\n",
       "    }\n",
       "</style>\n",
       "<table border=\"1\" class=\"dataframe\">\n",
       "  <thead>\n",
       "    <tr style=\"text-align: right;\">\n",
       "      <th></th>\n",
       "      <th>target</th>\n",
       "      <th>text</th>\n",
       "    </tr>\n",
       "  </thead>\n",
       "  <tbody>\n",
       "    <tr>\n",
       "      <th>804366</th>\n",
       "      <td>4</td>\n",
       "      <td>@paulewatts She is very happy with the pc thanks, she can now watch time team online if she misses it!</td>\n",
       "    </tr>\n",
       "    <tr>\n",
       "      <th>848751</th>\n",
       "      <td>4</td>\n",
       "      <td>Mmmmmm. Tweetie is quite neat on the Mac, does what it says on the label. Will try it for a day or two.</td>\n",
       "    </tr>\n",
       "    <tr>\n",
       "      <th>1146164</th>\n",
       "      <td>4</td>\n",
       "      <td>Two hours ofwork left..then4 days off  goig to see the fishies</td>\n",
       "    </tr>\n",
       "    <tr>\n",
       "      <th>208525</th>\n",
       "      <td>0</td>\n",
       "      <td>Had worst night at work last night, worked 3 hours past shift thanks to asshole manager, phone died and locked out of store with no ride.</td>\n",
       "    </tr>\n",
       "    <tr>\n",
       "      <th>1351317</th>\n",
       "      <td>4</td>\n",
       "      <td>Today is a beautiful day, let's spend it outside!</td>\n",
       "    </tr>\n",
       "    <tr>\n",
       "      <th>1220930</th>\n",
       "      <td>4</td>\n",
       "      <td>@amanda i'd be happy to send over a PDF portfolio if you want (I'm her agent, it seems  just DM me your email</td>\n",
       "    </tr>\n",
       "    <tr>\n",
       "      <th>512267</th>\n",
       "      <td>0</td>\n",
       "      <td>awww man~ i knew i forgot something. i forgot my camera for tonight's jap buffet spread dinner w friends!!  wanna snap all the good food.</td>\n",
       "    </tr>\n",
       "  </tbody>\n",
       "</table>\n",
       "</div>\n",
       "      <button class=\"colab-df-convert\" onclick=\"convertToInteractive('df-409a0264-5a9c-495c-ae4a-8ca01173b263')\"\n",
       "              title=\"Convert this dataframe to an interactive table.\"\n",
       "              style=\"display:none;\">\n",
       "        \n",
       "  <svg xmlns=\"http://www.w3.org/2000/svg\" height=\"24px\"viewBox=\"0 0 24 24\"\n",
       "       width=\"24px\">\n",
       "    <path d=\"M0 0h24v24H0V0z\" fill=\"none\"/>\n",
       "    <path d=\"M18.56 5.44l.94 2.06.94-2.06 2.06-.94-2.06-.94-.94-2.06-.94 2.06-2.06.94zm-11 1L8.5 8.5l.94-2.06 2.06-.94-2.06-.94L8.5 2.5l-.94 2.06-2.06.94zm10 10l.94 2.06.94-2.06 2.06-.94-2.06-.94-.94-2.06-.94 2.06-2.06.94z\"/><path d=\"M17.41 7.96l-1.37-1.37c-.4-.4-.92-.59-1.43-.59-.52 0-1.04.2-1.43.59L10.3 9.45l-7.72 7.72c-.78.78-.78 2.05 0 2.83L4 21.41c.39.39.9.59 1.41.59.51 0 1.02-.2 1.41-.59l7.78-7.78 2.81-2.81c.8-.78.8-2.07 0-2.86zM5.41 20L4 18.59l7.72-7.72 1.47 1.35L5.41 20z\"/>\n",
       "  </svg>\n",
       "      </button>\n",
       "      \n",
       "  <style>\n",
       "    .colab-df-container {\n",
       "      display:flex;\n",
       "      flex-wrap:wrap;\n",
       "      gap: 12px;\n",
       "    }\n",
       "\n",
       "    .colab-df-convert {\n",
       "      background-color: #E8F0FE;\n",
       "      border: none;\n",
       "      border-radius: 50%;\n",
       "      cursor: pointer;\n",
       "      display: none;\n",
       "      fill: #1967D2;\n",
       "      height: 32px;\n",
       "      padding: 0 0 0 0;\n",
       "      width: 32px;\n",
       "    }\n",
       "\n",
       "    .colab-df-convert:hover {\n",
       "      background-color: #E2EBFA;\n",
       "      box-shadow: 0px 1px 2px rgba(60, 64, 67, 0.3), 0px 1px 3px 1px rgba(60, 64, 67, 0.15);\n",
       "      fill: #174EA6;\n",
       "    }\n",
       "\n",
       "    [theme=dark] .colab-df-convert {\n",
       "      background-color: #3B4455;\n",
       "      fill: #D2E3FC;\n",
       "    }\n",
       "\n",
       "    [theme=dark] .colab-df-convert:hover {\n",
       "      background-color: #434B5C;\n",
       "      box-shadow: 0px 1px 3px 1px rgba(0, 0, 0, 0.15);\n",
       "      filter: drop-shadow(0px 1px 2px rgba(0, 0, 0, 0.3));\n",
       "      fill: #FFFFFF;\n",
       "    }\n",
       "  </style>\n",
       "\n",
       "      <script>\n",
       "        const buttonEl =\n",
       "          document.querySelector('#df-409a0264-5a9c-495c-ae4a-8ca01173b263 button.colab-df-convert');\n",
       "        buttonEl.style.display =\n",
       "          google.colab.kernel.accessAllowed ? 'block' : 'none';\n",
       "\n",
       "        async function convertToInteractive(key) {\n",
       "          const element = document.querySelector('#df-409a0264-5a9c-495c-ae4a-8ca01173b263');\n",
       "          const dataTable =\n",
       "            await google.colab.kernel.invokeFunction('convertToInteractive',\n",
       "                                                     [key], {});\n",
       "          if (!dataTable) return;\n",
       "\n",
       "          const docLinkHtml = 'Like what you see? Visit the ' +\n",
       "            '<a target=\"_blank\" href=https://colab.research.google.com/notebooks/data_table.ipynb>data table notebook</a>'\n",
       "            + ' to learn more about interactive tables.';\n",
       "          element.innerHTML = '';\n",
       "          dataTable['output_type'] = 'display_data';\n",
       "          await google.colab.output.renderOutput(dataTable, element);\n",
       "          const docLink = document.createElement('div');\n",
       "          docLink.innerHTML = docLinkHtml;\n",
       "          element.appendChild(docLink);\n",
       "        }\n",
       "      </script>\n",
       "    </div>\n",
       "  </div>\n",
       "  "
      ],
      "text/plain": [
       "         target                                                                                                                                        text\n",
       "804366   4       @paulewatts She is very happy with the pc thanks, she can now watch time team online if she misses it!                                    \n",
       "848751   4       Mmmmmm. Tweetie is quite neat on the Mac, does what it says on the label. Will try it for a day or two.                                   \n",
       "1146164  4       Two hours ofwork left..then4 days off  goig to see the fishies                                                                            \n",
       "208525   0       Had worst night at work last night, worked 3 hours past shift thanks to asshole manager, phone died and locked out of store with no ride. \n",
       "1351317  4       Today is a beautiful day, let's spend it outside!                                                                                         \n",
       "1220930  4       @amanda i'd be happy to send over a PDF portfolio if you want (I'm her agent, it seems  just DM me your email                             \n",
       "512267   0       awww man~ i knew i forgot something. i forgot my camera for tonight's jap buffet spread dinner w friends!!  wanna snap all the good food. "
      ]
     },
     "execution_count": 4,
     "metadata": {},
     "output_type": "execute_result"
    }
   ],
   "source": [
    "df = pd.read_csv(\"/content/drive/MyDrive/DL Assignment/archive.zip\", compression='zip', encoding=\"ISO-8859-1\", \n",
    "                 low_memory=False, \n",
    "                 header=None)\n",
    "\n",
    "df.columns = [\"target\", \"ids\", \"date\", \"flag\", \"user\", \"text\"]\n",
    "df.drop([\"ids\", \"date\", \"flag\", \"user\"], axis=1, inplace=True)\n",
    "df = df.sample(frac=1) # Shuffling\n",
    "df.head(7)"
   ]
  },
  {
   "cell_type": "code",
   "execution_count": 5,
   "metadata": {
    "colab": {
     "base_uri": "https://localhost:8080/"
    },
    "id": "_voCclmO4ZHf",
    "outputId": "a7a45030-c92a-4e2f-a648-32bdcd508fa2"
   },
   "outputs": [
    {
     "name": "stdout",
     "output_type": "stream",
     "text": [
      "<class 'pandas.core.frame.DataFrame'>\n",
      "Int64Index: 1600000 entries, 804366 to 186191\n",
      "Data columns (total 2 columns):\n",
      " #   Column  Non-Null Count    Dtype \n",
      "---  ------  --------------    ----- \n",
      " 0   target  1600000 non-null  int64 \n",
      " 1   text    1600000 non-null  object\n",
      "dtypes: int64(1), object(1)\n",
      "memory usage: 36.6+ MB\n"
     ]
    }
   ],
   "source": [
    "df.info()"
   ]
  },
  {
   "cell_type": "code",
   "execution_count": 6,
   "metadata": {
    "colab": {
     "base_uri": "https://localhost:8080/"
    },
    "id": "WS35fQ5h4cqx",
    "outputId": "ceb77655-ab36-4f24-841f-05e85fd2ef66"
   },
   "outputs": [
    {
     "name": "stdout",
     "output_type": "stream",
     "text": [
      "Num of GPUs available:  13\n"
     ]
    }
   ],
   "source": [
    "import tensorflow as tf\n",
    "print(\"Num of GPUs available: \", len(tf.test.gpu_device_name()))"
   ]
  },
  {
   "cell_type": "code",
   "execution_count": 7,
   "metadata": {
    "colab": {
     "base_uri": "https://localhost:8080/",
     "height": 513
    },
    "id": "pTPwoaxp4f_s",
    "outputId": "ca5bba25-3eb2-4ffe-997d-0c15090b0bd9"
   },
   "outputs": [
    {
     "data": {
      "image/png": "[encoded data removed]",
      "text/plain": [
       "<Figure size 720x576 with 1 Axes>"
      ]
     },
     "metadata": {
      "needs_background": "light"
     },
     "output_type": "display_data"
    }
   ],
   "source": [
    "def value_count(df, col_name):\n",
    "    import seaborn as sns\n",
    "    import matplotlib.pyplot as plt\n",
    "    \n",
    "    plt.figure(figsize=(10,8))\n",
    "    ax = sns.countplot(y = col_name, data=df, orient = 'v')\n",
    "\n",
    "    plt.title('Distribution')\n",
    "\n",
    "    total = len(df[col_name])\n",
    "    for p in ax.patches:\n",
    "\n",
    "        percentage = '{:.5f}%'.format(100 * p.get_width()/total)\n",
    "        x = p.get_x() + p.get_width() + 0.02\n",
    "        y = p.get_y() + p.get_height()/2\n",
    "        ax.annotate(percentage, (x, y))\n",
    "\n",
    "    plt.show()\n",
    "\n",
    "\n",
    "df.loc[df[\"target\"] == 4, \"target\"] = 1\n",
    "value_count(df, \"target\") # Balanced class count for positive and negative"
   ]
  },
  {
   "cell_type": "code",
   "execution_count": 8,
   "metadata": {
    "colab": {
     "base_uri": "https://localhost:8080/",
     "height": 329
    },
    "id": "4St77bLf4jMG",
    "outputId": "cdab6dda-1ea6-4450-a9c6-1383d1d2bfe5"
   },
   "outputs": [
    {
     "name": "stdout",
     "output_type": "stream",
     "text": [
      "+--------+----------+---------------------------------------------------------------------------------------------------------+\n",
      "|        |   target | text                                                                                                    |\n",
      "+========+==========+=========================================================================================================+\n",
      "| 804366 |        1 | @paulewatts She is very happy with the pc thanks, she can now watch time team online if she misses it!  |\n",
      "+--------+----------+---------------------------------------------------------------------------------------------------------+\n",
      "| 848751 |        1 | Mmmmmm. Tweetie is quite neat on the Mac, does what it says on the label. Will try it for a day or two. |\n",
      "+--------+----------+---------------------------------------------------------------------------------------------------------+\n"
     ]
    },
    {
     "data": {
      "text/plain": [
       "None"
      ]
     },
     "metadata": {},
     "output_type": "display_data"
    },
    {
     "name": "stdout",
     "output_type": "stream",
     "text": [
      "\n",
      "+--------+----------+-------------------------------------------------------------------------------------------------------------------------------------------+\n",
      "|        |   target | text                                                                                                                                      |\n",
      "+========+==========+===========================================================================================================================================+\n",
      "| 208525 |        0 | Had worst night at work last night, worked 3 hours past shift thanks to asshole manager, phone died and locked out of store with no ride. |\n",
      "+--------+----------+-------------------------------------------------------------------------------------------------------------------------------------------+\n",
      "| 512267 |        0 | awww man~ i knew i forgot something. i forgot my camera for tonight's jap buffet spread dinner w friends!!  wanna snap all the good food. |\n",
      "+--------+----------+-------------------------------------------------------------------------------------------------------------------------------------------+\n"
     ]
    },
    {
     "data": {
      "text/plain": [
       "None"
      ]
     },
     "metadata": {},
     "output_type": "display_data"
    },
    {
     "name": "stdout",
     "output_type": "stream",
     "text": [
      "\n"
     ]
    }
   ],
   "source": [
    "for target in df[\"target\"].unique().tolist():\n",
    "    tempDf = df[df[\"target\"] == target].head(2)\n",
    "    display(print(tempDf.to_markdown(tablefmt=\"grid\")))\n",
    "    print()"
   ]
  },
  {
   "cell_type": "code",
   "execution_count": 9,
   "metadata": {
    "colab": {
     "base_uri": "https://localhost:8080/",
     "height": 390
    },
    "id": "A27rO0J94lzJ",
    "outputId": "5bce8d48-129d-4ce4-bfd3-febc9eb2347b"
   },
   "outputs": [
    {
     "data": {
      "image/png": "[encoded data removed]",
      "text/plain": [
       "<Figure size 1296x432 with 1 Axes>"
      ]
     },
     "metadata": {
      "needs_background": "light"
     },
     "output_type": "display_data"
    }
   ],
   "source": [
    "plt.figure(figsize=(18, 6))\n",
    "lengths_0 = [len(t.split(' ')) for t in df[df[\"target\"] == 0].text]\n",
    "lengths_1 = [len(t.split(' ')) for t in df[df[\"target\"] == 1].text]\n",
    "\n",
    "plt.hist(lengths_0, bins = len(set(lengths_0)), density=True, alpha=0.5, color='r', label=\"Class Negative\")\n",
    "plt.hist(lengths_1, bins = len(set(lengths_1)), density=True, alpha=0.5, color='g', label=\"Class Positive\")\n",
    "plt.xlim(0, 50)\n",
    "plt.title(\"Text length distributions\")\n",
    "plt.legend()\n",
    "plt.show();"
   ]
  },
  {
   "cell_type": "code",
   "execution_count": 10,
   "metadata": {
    "colab": {
     "base_uri": "https://localhost:8080/",
     "height": 269
    },
    "id": "TFvHovLE4vPD",
    "outputId": "e633c53f-5dff-4816-e048-94174dd6d537"
   },
   "outputs": [
    {
     "data": {
      "text/html": [
       "\n",
       "  <div id=\"df-05349d74-49fb-4d21-bd53-2a6e559d00e5\">\n",
       "    <div class=\"colab-df-container\">\n",
       "      <div>\n",
       "<style scoped>\n",
       "    .dataframe tbody tr th:only-of-type {\n",
       "        vertical-align: middle;\n",
       "    }\n",
       "\n",
       "    .dataframe tbody tr th {\n",
       "        vertical-align: top;\n",
       "    }\n",
       "\n",
       "    .dataframe thead th {\n",
       "        text-align: right;\n",
       "    }\n",
       "</style>\n",
       "<table border=\"1\" class=\"dataframe\">\n",
       "  <thead>\n",
       "    <tr style=\"text-align: right;\">\n",
       "      <th></th>\n",
       "      <th>target</th>\n",
       "      <th>text</th>\n",
       "    </tr>\n",
       "  </thead>\n",
       "  <tbody>\n",
       "    <tr>\n",
       "      <th>804366</th>\n",
       "      <td>1</td>\n",
       "      <td>paulewatts She happy pc thanks watch time team online misses it</td>\n",
       "    </tr>\n",
       "    <tr>\n",
       "      <th>848751</th>\n",
       "      <td>1</td>\n",
       "      <td>Mmmmmm Tweetie quite neat Mac says label Will try day two</td>\n",
       "    </tr>\n",
       "    <tr>\n",
       "      <th>1146164</th>\n",
       "      <td>1</td>\n",
       "      <td>Two hours ofwork leftthen4 days goig see fishies</td>\n",
       "    </tr>\n",
       "    <tr>\n",
       "      <th>208525</th>\n",
       "      <td>0</td>\n",
       "      <td>Had worst night work last night worked 3 hours past shift thanks asshole manager phone died locked store ride</td>\n",
       "    </tr>\n",
       "    <tr>\n",
       "      <th>1351317</th>\n",
       "      <td>1</td>\n",
       "      <td>Today beautiful day lets spend outside</td>\n",
       "    </tr>\n",
       "    <tr>\n",
       "      <th>1220930</th>\n",
       "      <td>1</td>\n",
       "      <td>amanda id happy send PDF portfolio want Im agent seems DM email</td>\n",
       "    </tr>\n",
       "    <tr>\n",
       "      <th>512267</th>\n",
       "      <td>0</td>\n",
       "      <td>awww man knew forgot something forgot camera tonights jap buffet spread dinner w friends wanna snap good food</td>\n",
       "    </tr>\n",
       "  </tbody>\n",
       "</table>\n",
       "</div>\n",
       "      <button class=\"colab-df-convert\" onclick=\"convertToInteractive('df-05349d74-49fb-4d21-bd53-2a6e559d00e5')\"\n",
       "              title=\"Convert this dataframe to an interactive table.\"\n",
       "              style=\"display:none;\">\n",
       "        \n",
       "  <svg xmlns=\"http://www.w3.org/2000/svg\" height=\"24px\"viewBox=\"0 0 24 24\"\n",
       "       width=\"24px\">\n",
       "    <path d=\"M0 0h24v24H0V0z\" fill=\"none\"/>\n",
       "    <path d=\"M18.56 5.44l.94 2.06.94-2.06 2.06-.94-2.06-.94-.94-2.06-.94 2.06-2.06.94zm-11 1L8.5 8.5l.94-2.06 2.06-.94-2.06-.94L8.5 2.5l-.94 2.06-2.06.94zm10 10l.94 2.06.94-2.06 2.06-.94-2.06-.94-.94-2.06-.94 2.06-2.06.94z\"/><path d=\"M17.41 7.96l-1.37-1.37c-.4-.4-.92-.59-1.43-.59-.52 0-1.04.2-1.43.59L10.3 9.45l-7.72 7.72c-.78.78-.78 2.05 0 2.83L4 21.41c.39.39.9.59 1.41.59.51 0 1.02-.2 1.41-.59l7.78-7.78 2.81-2.81c.8-.78.8-2.07 0-2.86zM5.41 20L4 18.59l7.72-7.72 1.47 1.35L5.41 20z\"/>\n",
       "  </svg>\n",
       "      </button>\n",
       "      \n",
       "  <style>\n",
       "    .colab-df-container {\n",
       "      display:flex;\n",
       "      flex-wrap:wrap;\n",
       "      gap: 12px;\n",
       "    }\n",
       "\n",
       "    .colab-df-convert {\n",
       "      background-color: #E8F0FE;\n",
       "      border: none;\n",
       "      border-radius: 50%;\n",
       "      cursor: pointer;\n",
       "      display: none;\n",
       "      fill: #1967D2;\n",
       "      height: 32px;\n",
       "      padding: 0 0 0 0;\n",
       "      width: 32px;\n",
       "    }\n",
       "\n",
       "    .colab-df-convert:hover {\n",
       "      background-color: #E2EBFA;\n",
       "      box-shadow: 0px 1px 2px rgba(60, 64, 67, 0.3), 0px 1px 3px 1px rgba(60, 64, 67, 0.15);\n",
       "      fill: #174EA6;\n",
       "    }\n",
       "\n",
       "    [theme=dark] .colab-df-convert {\n",
       "      background-color: #3B4455;\n",
       "      fill: #D2E3FC;\n",
       "    }\n",
       "\n",
       "    [theme=dark] .colab-df-convert:hover {\n",
       "      background-color: #434B5C;\n",
       "      box-shadow: 0px 1px 3px 1px rgba(0, 0, 0, 0.15);\n",
       "      filter: drop-shadow(0px 1px 2px rgba(0, 0, 0, 0.3));\n",
       "      fill: #FFFFFF;\n",
       "    }\n",
       "  </style>\n",
       "\n",
       "      <script>\n",
       "        const buttonEl =\n",
       "          document.querySelector('#df-05349d74-49fb-4d21-bd53-2a6e559d00e5 button.colab-df-convert');\n",
       "        buttonEl.style.display =\n",
       "          google.colab.kernel.accessAllowed ? 'block' : 'none';\n",
       "\n",
       "        async function convertToInteractive(key) {\n",
       "          const element = document.querySelector('#df-05349d74-49fb-4d21-bd53-2a6e559d00e5');\n",
       "          const dataTable =\n",
       "            await google.colab.kernel.invokeFunction('convertToInteractive',\n",
       "                                                     [key], {});\n",
       "          if (!dataTable) return;\n",
       "\n",
       "          const docLinkHtml = 'Like what you see? Visit the ' +\n",
       "            '<a target=\"_blank\" href=https://colab.research.google.com/notebooks/data_table.ipynb>data table notebook</a>'\n",
       "            + ' to learn more about interactive tables.';\n",
       "          element.innerHTML = '';\n",
       "          dataTable['output_type'] = 'display_data';\n",
       "          await google.colab.output.renderOutput(dataTable, element);\n",
       "          const docLink = document.createElement('div');\n",
       "          docLink.innerHTML = docLinkHtml;\n",
       "          element.appendChild(docLink);\n",
       "        }\n",
       "      </script>\n",
       "    </div>\n",
       "  </div>\n",
       "  "
      ],
      "text/plain": [
       "         target                                                                                                           text\n",
       "804366   1       paulewatts She happy pc thanks watch time team online misses it                                              \n",
       "848751   1       Mmmmmm Tweetie quite neat Mac says label Will try day two                                                    \n",
       "1146164  1       Two hours ofwork leftthen4 days goig see fishies                                                             \n",
       "208525   0       Had worst night work last night worked 3 hours past shift thanks asshole manager phone died locked store ride\n",
       "1351317  1       Today beautiful day lets spend outside                                                                       \n",
       "1220930  1       amanda id happy send PDF portfolio want Im agent seems DM email                                              \n",
       "512267   0       awww man knew forgot something forgot camera tonights jap buffet spread dinner w friends wanna snap good food"
      ]
     },
     "execution_count": 10,
     "metadata": {},
     "output_type": "execute_result"
    }
   ],
   "source": [
    "stopwords = stopwords.words('english')\n",
    "stemmer = SnowballStemmer('english')\n",
    "tokenizer = RegexpTokenizer(r'\\w+')\n",
    "\n",
    "# Some basic helper functions to clean text by removing urls, emojis, html tags and punctuations.\n",
    "def remove_stopwords(text):\n",
    "    tokens = []\n",
    "    \n",
    "    for token in text.split():\n",
    "        if token not in stop:\n",
    "            tokens.append(token)\n",
    "    return \" \".join(tokens)\n",
    "\n",
    "\n",
    "def remove_https(text):\n",
    "    url = re.compile(r'https?://\\S+|www\\.\\S+')\n",
    "    return url.sub(r'', text)\n",
    "\n",
    "def remove_http(text):\n",
    "    url = re.compile(r'http?://\\S+|www\\.\\S+')\n",
    "    return url.sub(r'', text)\n",
    "\n",
    "def remove_html(text):\n",
    "    html = re.compile(r'<.*?>|&([a-z0-9]+|#[0-9]{1,6}|#x[0-9a-f]{1,6});')\n",
    "    return re.sub(html, '', text)\n",
    "\n",
    "def remove_punctuations(text):\n",
    "    table = str.maketrans('', '', string.punctuation)\n",
    "    return text.translate(table)\n",
    "\n",
    "# Applying helper functions\n",
    "\n",
    "df['text'] = df['text'].astype(str).apply(lambda x: remove_stopwords(x))\n",
    "df['text'] = df['text'].apply(lambda x: remove_http(x))\n",
    "df['text'] = df['text'].apply(lambda x: remove_https(x))\n",
    "df['text'] = df['text'].apply(lambda x: remove_html(x))\n",
    "df['text'] = df['text'].apply(lambda x: remove_punctuations(x))\n",
    "df.head(7)"
   ]
  },
  {
   "cell_type": "code",
   "execution_count": 11,
   "metadata": {
    "colab": {
     "base_uri": "https://localhost:8080/"
    },
    "id": "8WCWKGskWC8t",
    "outputId": "2369dfb6-6979-4889-f7d6-7026a6c38d82"
   },
   "outputs": [
    {
     "data": {
      "text/plain": [
       "target    0\n",
       "text      0\n",
       "dtype: int64"
      ]
     },
     "execution_count": 11,
     "metadata": {},
     "output_type": "execute_result"
    }
   ],
   "source": [
    "df.isna().sum() # No na values"
   ]
  },
  {
   "cell_type": "code",
   "execution_count": 12,
   "metadata": {
    "id": "tjaLtuvi4zIn"
   },
   "outputs": [],
   "source": [
    "def splitting(data, target, split_ratio):\n",
    "    \n",
    "    classes = np.unique(df.target) # Unique values for classes\n",
    "    \n",
    "    train_df, valid_df = train_test_split(df, train_size = split_ratio, stratify = df.target, random_state=42)\n",
    "\n",
    "    return train_df, valid_df, classes\n",
    "\n",
    "train_df, valid_df, classes = splitting(df, target=\"target\", split_ratio = 0.75)"
   ]
  },
  {
   "cell_type": "code",
   "execution_count": 13,
   "metadata": {
    "colab": {
     "base_uri": "https://localhost:8080/"
    },
    "id": "dH6l9XNn48nB",
    "outputId": "1f722728-2d2b-4dd6-b875-e906679eb5d2"
   },
   "outputs": [
    {
     "name": "stdout",
     "output_type": "stream",
     "text": [
      "Shape of Train : (1200000, 2)\n",
      "Shape of Test : (400000, 2)\n"
     ]
    }
   ],
   "source": [
    "print(\"Shape of Train :\", train_df.shape)\n",
    "print(\"Shape of Test :\", valid_df.shape)"
   ]
  },
  {
   "cell_type": "code",
   "execution_count": 14,
   "metadata": {
    "id": "o_7eOXdF4_et"
   },
   "outputs": [],
   "source": [
    "import tensorflow_hub as hub\n",
    "\n",
    "# Text embedding based on feed-forward Neural-Net Language Models[1] with pre-built OOV. \n",
    "# Maps from text to 128-dimensional embedding vectors.\n",
    "\n",
    "embed = hub.load(\"https://tfhub.dev/google/nnlm-en-dim128/2\")"
   ]
  },
  {
   "cell_type": "markdown",
   "metadata": {
    "id": "C1cqO46K5StE"
   },
   "source": [
    "\n",
    "\n",
    "```\n",
    "Neural-Net Language Model (NNLM): The model simultaneously learns representations of words and probability functions for word sequences, allowing it to capture semantics of a sentence. We will use a pretrained models available on Tensorflow Hub, that are trained on the English Google News 200B corpus, and computes a vector of 128 dimensions for the larger model and 50 dimensions for the smaller model.\n",
    "```\n",
    "\n"
   ]
  },
  {
   "cell_type": "code",
   "execution_count": 15,
   "metadata": {
    "id": "5Wa4arVr5XNy"
   },
   "outputs": [],
   "source": [
    "hub_layer = hub.KerasLayer(\"https://tfhub.dev/google/nnlm-en-dim128/2\", input_shape=[], dtype=tf.string)\n",
    "module_url = \"https://tfhub.dev/google/nnlm-en-dim128/2\""
   ]
  },
  {
   "cell_type": "code",
   "execution_count": 16,
   "metadata": {
    "id": "B31GL9VT5bCL"
   },
   "outputs": [],
   "source": [
    "!pip install -q git+https://github.com/tensorflow/docs\n",
    "    \n",
    "import tensorflow_docs as tfdocs\n",
    "import tensorflow_docs.modeling\n",
    "import tensorflow_docs.plots"
   ]
  },
  {
   "cell_type": "code",
   "execution_count": 17,
   "metadata": {
    "id": "p1rqghTLYxHe"
   },
   "outputs": [],
   "source": [
    "encoder = LabelEncoder() # https://keras.io/api/losses/probabilistic_losses/#binarycrossentropy-class\n",
    "\n",
    "# Computes the cross-entropy loss between true labels and predicted labels. \n",
    "# Use binarycrossentropy cross-entropy loss for binary (0 or 1) classification applications.\n",
    "\n",
    "train_df['target'] = encoder.fit_transform(train_df['target'].tolist())\n",
    "valid_df['target'] = encoder.transform(valid_df['target'].tolist())"
   ]
  },
  {
   "cell_type": "code",
   "execution_count": 18,
   "metadata": {
    "colab": {
     "base_uri": "https://localhost:8080/"
    },
    "id": "Jj1l-baaHr-Z",
    "outputId": "52d7a3bb-d29a-4238-c0b4-0de9c612aa76"
   },
   "outputs": [
    {
     "data": {
      "text/plain": [
       "0    200000\n",
       "1    200000\n",
       "Name: target, dtype: int64"
      ]
     },
     "execution_count": 18,
     "metadata": {},
     "output_type": "execute_result"
    }
   ],
   "source": [
    "valid_df['target'].value_counts()"
   ]
  },
  {
   "cell_type": "markdown",
   "metadata": {
    "id": "o1rIG8huvuUK"
   },
   "source": [
    "#### We gradually decrease number of neurons in hidden layers by dividing the number of neurons in the previous layers by 2 in general. A more thorough discussion is provided in the [thread](https://stats.stackexchange.com/questions/181/how-to-choose-the-number-of-hidden-layers-and-nodes-in-a-feedforward-neural-netw). Since our input embedding is 128, the rest of the nodes should be decided in accordance to the suggested rules."
   ]
  },
  {
   "cell_type": "code",
   "execution_count": 19,
   "metadata": {
    "id": "Bk6aD1S95crn"
   },
   "outputs": [],
   "source": [
    "def train_and_evaluate_model(module_url, embed_size, name, trainable=False):\n",
    "    \n",
    "    hub_layer = hub.KerasLayer(module_url, input_shape = [], \n",
    "                               output_shape=[embed_size], \n",
    "                               dtype=tf.string, \n",
    "                               trainable=trainable)\n",
    "\n",
    "    model = tf.keras.models.Sequential([\n",
    "                                      hub_layer, # Input embedding layer\n",
    "                                      tf.keras.layers.Dropout(0.4),\n",
    "                                      tf.keras.layers.Dense(112, activation='relu', kernel_regularizer=regularizers.L2(0.01)),\n",
    "                                      tf.keras.layers.Dropout(0.25),\n",
    "                                      tf.keras.layers.Dense(96, activation='relu', kernel_regularizer=regularizers.L2(0.01)),\n",
    "                                      tf.keras.layers.Dropout(0.25),\n",
    "                                      tf.keras.layers.Dense(80, activation='relu', kernel_regularizer=regularizers.L2(0.01)),\n",
    "                                      tf.keras.layers.Dropout(0.2),\n",
    "                                      tf.keras.layers.Dense(64, activation='relu', kernel_regularizer=regularizers.L2(0.01)),\n",
    "                                      tf.keras.layers.Dropout(0.1),\n",
    "                                      tf.keras.layers.Dense(32, activation='relu', kernel_regularizer=regularizers.L2(0.01)),\n",
    "                                      tf.keras.layers.Dropout(0.1),\n",
    "                                      tf.keras.layers.Dense(1, activation='sigmoid') # Binary class   \n",
    "                                      ])\n",
    "    \n",
    "    reduce_lr = tf.keras.callbacks.ReduceLROnPlateau(monitor='val_loss', factor=0.1, patience=5, min_lr=0.001)\n",
    "    \n",
    "    # Compile the model with the appropriate loss function; Use accuracy as a metric.\n",
    "    model.compile(optimizer=tf.keras.optimizers.Adam(learning_rate=0.005),\n",
    "                  loss = tf.losses.BinaryCrossentropy(),\n",
    "                  metrics=[tf.metrics.BinaryAccuracy(name='accuracy')])\n",
    "\n",
    "    # Print the model summary.\n",
    "    model.summary()\n",
    "\n",
    "    history = model.fit(train_df['text'].values, train_df['target'], \n",
    "                      epochs=25, \n",
    "                      batch_size=512, \n",
    "                      validation_data=(valid_df['text'], valid_df['target']),\n",
    "                      callbacks=[tfdocs.modeling.EpochDots(),\n",
    "                                 tf.keras.callbacks.EarlyStopping(monitor='val_loss', \n",
    "                                                                  patience=5, \n",
    "                                                                  mode='min'),\n",
    "                                 tf.keras.callbacks.TensorBoard(log_dir=logdir/name)],\n",
    "                      verbose=1)\n",
    "  \n",
    "    return model, history"
   ]
  },
  {
   "cell_type": "code",
   "execution_count": 20,
   "metadata": {
    "colab": {
     "base_uri": "https://localhost:8080/"
    },
    "id": "HaA5lD2H5trQ",
    "outputId": "113b3601-ad0a-4014-c062-9cc36c5fe4e8"
   },
   "outputs": [
    {
     "name": "stdout",
     "output_type": "stream",
     "text": [
      "Model: \"sequential\"\n",
      "_________________________________________________________________\n",
      " Layer (type)                Output Shape              Param #   \n",
      "=================================================================\n",
      " keras_layer_1 (KerasLayer)  (None, 128)               124642688 \n",
      "                                                                 \n",
      " dropout (Dropout)           (None, 128)               0         \n",
      "                                                                 \n",
      " dense (Dense)               (None, 112)               14448     \n",
      "                                                                 \n",
      " dropout_1 (Dropout)         (None, 112)               0         \n",
      "                                                                 \n",
      " dense_1 (Dense)             (None, 96)                10848     \n",
      "                                                                 \n",
      " dropout_2 (Dropout)         (None, 96)                0         \n",
      "                                                                 \n",
      " dense_2 (Dense)             (None, 80)                7760      \n",
      "                                                                 \n",
      " dropout_3 (Dropout)         (None, 80)                0         \n",
      "                                                                 \n",
      " dense_3 (Dense)             (None, 64)                5184      \n",
      "                                                                 \n",
      " dropout_4 (Dropout)         (None, 64)                0         \n",
      "                                                                 \n",
      " dense_4 (Dense)             (None, 32)                2080      \n",
      "                                                                 \n",
      " dropout_5 (Dropout)         (None, 32)                0         \n",
      "                                                                 \n",
      " dense_5 (Dense)             (None, 1)                 33        \n",
      "                                                                 \n",
      "=================================================================\n",
      "Total params: 124,683,041\n",
      "Trainable params: 40,353\n",
      "Non-trainable params: 124,642,688\n",
      "_________________________________________________________________\n",
      "Epoch 1/25\n",
      "   5/2344 [..............................] - ETA: 47s - loss: 4.2855 - accuracy: 0.4879    WARNING:tensorflow:Callback method `on_train_batch_end` is slow compared to the batch time (batch time: 0.0176s vs `on_train_batch_end` time: 0.0205s). Check your callbacks.\n"
     ]
    },
    {
     "name": "stderr",
     "output_type": "stream",
     "text": [
      "WARNING:tensorflow:Callback method `on_train_batch_end` is slow compared to the batch time (batch time: 0.0176s vs `on_train_batch_end` time: 0.0205s). Check your callbacks.\n"
     ]
    },
    {
     "name": "stdout",
     "output_type": "stream",
     "text": [
      "2344/2344 [==============================] - ETA: 0s - loss: 0.7119 - accuracy: 0.4997\n",
      "Epoch: 0, accuracy:0.4997,  loss:0.7119,  val_accuracy:0.5000,  val_loss:0.6931,  \n",
      "2344/2344 [==============================] - 63s 26ms/step - loss: 0.7119 - accuracy: 0.4997 - val_loss: 0.6931 - val_accuracy: 0.5000\n",
      "Epoch 2/25\n",
      "2344/2344 [==============================] - 44s 19ms/step - loss: 0.6932 - accuracy: 0.5011 - val_loss: 0.6932 - val_accuracy: 0.5000\n",
      "Epoch 3/25\n",
      "2344/2344 [==============================] - 44s 19ms/step - loss: 0.6932 - accuracy: 0.4995 - val_loss: 0.6932 - val_accuracy: 0.5000\n",
      "Epoch 4/25\n",
      "2344/2344 [==============================] - 45s 19ms/step - loss: 0.6932 - accuracy: 0.4992 - val_loss: 0.6932 - val_accuracy: 0.5000\n",
      "Epoch 5/25\n",
      "2344/2344 [==============================] - 45s 19ms/step - loss: 0.6932 - accuracy: 0.4992 - val_loss: 0.6932 - val_accuracy: 0.5000\n",
      "Epoch 6/25\n",
      "2344/2344 [==============================] - 44s 19ms/step - loss: 0.6932 - accuracy: 0.4996 - val_loss: 0.6931 - val_accuracy: 0.5000\n",
      "Epoch 7/25\n",
      "2344/2344 [==============================] - 44s 19ms/step - loss: 0.6932 - accuracy: 0.5001 - val_loss: 0.6931 - val_accuracy: 0.5000\n",
      "Epoch 8/25\n",
      "2344/2344 [==============================] - 45s 19ms/step - loss: 0.6932 - accuracy: 0.4991 - val_loss: 0.6932 - val_accuracy: 0.5000\n",
      "Epoch 9/25\n",
      "2344/2344 [==============================] - 46s 20ms/step - loss: 0.6932 - accuracy: 0.4998 - val_loss: 0.6931 - val_accuracy: 0.5000\n",
      "Epoch 10/25\n",
      "2344/2344 [==============================] - 44s 19ms/step - loss: 0.6932 - accuracy: 0.4999 - val_loss: 0.6931 - val_accuracy: 0.5000\n",
      "Epoch 11/25\n",
      "2344/2344 [==============================] - 44s 19ms/step - loss: 0.6932 - accuracy: 0.4989 - val_loss: 0.6932 - val_accuracy: 0.5000\n",
      "Epoch 12/25\n",
      "2344/2344 [==============================] - 45s 19ms/step - loss: 0.6932 - accuracy: 0.4993 - val_loss: 0.6932 - val_accuracy: 0.5000\n",
      "Epoch 13/25\n",
      "2344/2344 [==============================] - 43s 18ms/step - loss: 0.6932 - accuracy: 0.4997 - val_loss: 0.6932 - val_accuracy: 0.5000\n",
      "Epoch 14/25\n",
      "2344/2344 [==============================] - 44s 19ms/step - loss: 0.6932 - accuracy: 0.5000 - val_loss: 0.6932 - val_accuracy: 0.5000\n",
      "Epoch 15/25\n",
      "2344/2344 [==============================] - 45s 19ms/step - loss: 0.6932 - accuracy: 0.5004 - val_loss: 0.6931 - val_accuracy: 0.5000\n",
      "CPU times: user 16min 14s, sys: 32.7 s, total: 16min 47s\n",
      "Wall time: 11min 29s\n"
     ]
    }
   ],
   "source": [
    "%%time \n",
    "\"\"\" To log the time taken for training\"\"\"\n",
    "\n",
    "histories= {}\n",
    "\n",
    "logdir = pathlib.Path(tempfile.mkdtemp())/\"tensorboard_logs\"\n",
    "model, histories['nnlm-en-dim128/2'] = train_and_evaluate_model(module_url=module_url, \n",
    "                                             embed_size=128, \n",
    "                                             name='nnlm-en-dim128/2',\n",
    "                                             trainable=False)"
   ]
  },
  {
   "cell_type": "code",
   "execution_count": 21,
   "metadata": {
    "id": "x2WmxNv7K_nu"
   },
   "outputs": [],
   "source": [
    "def plotAccuracy(histories):\n",
    "    plt.rcParams['figure.figsize'] = (12, 8)\n",
    "    plotter = tfdocs.plots.HistoryPlotter(metric = 'accuracy')\n",
    "    plotter.plot(histories)\n",
    "    plt.xlabel(\"Epochs\")\n",
    "    plt.legend(bbox_to_anchor=(1.0, 1.0), loc='upper left')\n",
    "    plt.title(\"Accuracy Curves for Models\")\n",
    "    plt.show()\n",
    "\n",
    "def plotLosses(histories):\n",
    "    plotter = tfdocs.plots.HistoryPlotter(metric = 'loss')\n",
    "    plotter.plot(histories)\n",
    "    plt.xlabel(\"Epochs\")\n",
    "    plt.legend(bbox_to_anchor=(1.0, 1.0), loc='upper left')\n",
    "    plt.title(\"Loss Curves for Models\")\n",
    "    plt.show()"
   ]
  },
  {
   "cell_type": "markdown",
   "metadata": {
    "id": "T-YASkQ66sK8"
   },
   "source": [
    "Print confusion matrix and classification report for the validation dataset. Analyse and report the best and worst performing class."
   ]
  },
  {
   "cell_type": "code",
   "execution_count": 22,
   "metadata": {
    "colab": {
     "base_uri": "https://localhost:8080/",
     "height": 951
    },
    "id": "pBZHmLEF6wbe",
    "outputId": "201e402f-817d-4a67-ffec-1d11421e96bc"
   },
   "outputs": [
    {
     "name": "stdout",
     "output_type": "stream",
     "text": [
      "Example misclassified for class 0\n",
      "Data : target    0                  \n",
      "text      woke late zoo today\n",
      "Name: 547295, dtype: object\n",
      "\n",
      "Example misclassified for class 1\n",
      "Data : target    1                                                    \n",
      "text      sore showing old school skills diving board yesterday\n",
      "Name: 1237824, dtype: object\n",
      "\n",
      "Example misclassified for class 1\n",
      "Data : target    1                        \n",
      "text      sugarsharrk Thanks girlie\n",
      "Name: 1099720, dtype: object\n",
      "\n",
      "Example misclassified for class 0\n",
      "Data : target    0                                                                                          \n",
      "text      school tomorrow lameatleast taks withsummer needs comelike right nowso much look forward to\n",
      "Name: 67327, dtype: object\n",
      "Accuracy: 0.5\n",
      "Precision: 0.0\n",
      "Recall: 0.0\n",
      "F1_score: 0.0\n",
      "\n",
      "              precision    recall  f1-score   support\n",
      "\n",
      "           0       0.50      1.00      0.67    200000\n",
      "           1       0.00      0.00      0.00    200000\n",
      "\n",
      "    accuracy                           0.50    400000\n",
      "   macro avg       0.25      0.50      0.33    400000\n",
      "weighted avg       0.25      0.50      0.33    400000\n",
      "\n"
     ]
    },
    {
     "data": {
      "image/png": "[encoded data removed]",
      "text/plain": [
       "<Figure size 432x432 with 2 Axes>"
      ]
     },
     "metadata": {
      "needs_background": "light"
     },
     "output_type": "display_data"
    }
   ],
   "source": [
    "def modelValidator(validation, actuals, model):\n",
    "    predictions = model.predict(validation)\n",
    "\n",
    "   # Print the \"two most\" incorrectly classified records for each class in the test dataset.\n",
    "    indices = []\n",
    "    for idx, (actual, pred) in enumerate(zip(actuals, predictions)):\n",
    "        indices.append((idx, actual, pred))\n",
    "\n",
    "    indices.sort(key = lambda s:s[2], reverse=True)\n",
    "\n",
    "    class_0, class_1 = 0, 0\n",
    "    for count, values in enumerate(indices):\n",
    "        if values[1] != values[2]:\n",
    "            if values[1] == 0:\n",
    "                if class_0 <= 2:\n",
    "                    class_0 += 1\n",
    "                    print(f\"Example misclassified for class {values[1]}\")\n",
    "                    print(\"Data :\", valid_df.iloc[count])\n",
    "        else:\n",
    "            if class_1 <= 2:\n",
    "                class_1 += 1\n",
    "                print(f\"Example misclassified for class {values[1]}\")\n",
    "                print(\"Data :\", valid_df.iloc[count])\n",
    "    if class_0 == 2 and class_0 == 2:\n",
    "        break;\n",
    "    print()\n",
    "\n",
    "    predictions = [1 if x > 0.5 else 0 for x in predictions] # Probabilities to class mapping.\n",
    "    plt.figure(figsize=(6, 6))\n",
    "    sns.heatmap(confusion_matrix(actuals, predictions), annot = True, fmt='g')\n",
    "\n",
    "    print(f\"Accuracy: {round(accuracy_score(actuals, predictions), 2)}\") \n",
    "    print(f\"Precision: {round(precision_score(actuals, predictions), 2)}\")\n",
    "    print(f\"Recall: {round(recall_score(actuals, predictions), 2)}\")\n",
    "    print(f\"F1_score: {round(f1_score(actuals, predictions), 2)}\")\n",
    "    print()\n",
    "    print(classification_report(actuals, predictions))\n",
    "\n",
    "modelValidator(validation=valid_df['text'], actuals=valid_df['target'], model=model)"
   ]
  },
  {
   "cell_type": "markdown",
   "metadata": {
    "id": "xNNPpCXJCGhL"
   },
   "source": [
    "#### Hyperparameter Tuning"
   ]
  },
  {
   "cell_type": "code",
   "execution_count": 23,
   "metadata": {
    "colab": {
     "base_uri": "https://localhost:8080/",
     "height": 1000
    },
    "id": "22mrYW1NCHW2",
    "outputId": "ed75ab0a-ca94-443c-848a-0885a21886ab",
    "scrolled": false
   },
   "outputs": [
    {
     "name": "stdout",
     "output_type": "stream",
     "text": [
      "Model: \"sequential_1\"\n",
      "_________________________________________________________________\n",
      " Layer (type)                Output Shape              Param #   \n",
      "=================================================================\n",
      " keras_layer_2 (KerasLayer)  (None, 128)               124642688 \n",
      "                                                                 \n",
      " dropout_6 (Dropout)         (None, 128)               0         \n",
      "                                                                 \n",
      " dense_6 (Dense)             (None, 112)               14448     \n",
      "                                                                 \n",
      " dropout_7 (Dropout)         (None, 112)               0         \n",
      "                                                                 \n",
      " dense_7 (Dense)             (None, 96)                10848     \n",
      "                                                                 \n",
      " dropout_8 (Dropout)         (None, 96)                0         \n",
      "                                                                 \n",
      " dense_8 (Dense)             (None, 80)                7760      \n",
      "                                                                 \n",
      " dropout_9 (Dropout)         (None, 80)                0         \n",
      "                                                                 \n",
      " dense_9 (Dense)             (None, 64)                5184      \n",
      "                                                                 \n",
      " dropout_10 (Dropout)        (None, 64)                0         \n",
      "                                                                 \n",
      " dense_10 (Dense)            (None, 32)                2080      \n",
      "                                                                 \n",
      " dropout_11 (Dropout)        (None, 32)                0         \n",
      "                                                                 \n",
      " dense_11 (Dense)            (None, 1)                 33        \n",
      "                                                                 \n",
      "=================================================================\n",
      "Total params: 124,683,041\n",
      "Trainable params: 40,353\n",
      "Non-trainable params: 124,642,688\n",
      "_________________________________________________________________\n",
      "Epoch 1/25\n",
      "2344/2344 [==============================] - ETA: 0s - loss: 0.7121 - accuracy: 0.5002\n",
      "Epoch: 0, accuracy:0.5002,  loss:0.7121,  val_accuracy:0.5000,  val_loss:0.6932,  \n",
      "2344/2344 [==============================] - 45s 19ms/step - loss: 0.7121 - accuracy: 0.5002 - val_loss: 0.6932 - val_accuracy: 0.5000\n",
      "Epoch 2/25\n",
      "2344/2344 [==============================] - 42s 18ms/step - loss: 0.6932 - accuracy: 0.5002 - val_loss: 0.6932 - val_accuracy: 0.5000\n",
      "Epoch 3/25\n",
      "2344/2344 [==============================] - 45s 19ms/step - loss: 0.6932 - accuracy: 0.5001 - val_loss: 0.6931 - val_accuracy: 0.5000\n",
      "Epoch 4/25\n",
      "2344/2344 [==============================] - 43s 18ms/step - loss: 0.6932 - accuracy: 0.5001 - val_loss: 0.6932 - val_accuracy: 0.5000\n",
      "Epoch 5/25\n",
      "2344/2344 [==============================] - 43s 18ms/step - loss: 0.6932 - accuracy: 0.4990 - val_loss: 0.6931 - val_accuracy: 0.5000\n",
      "Epoch 6/25\n",
      "2344/2344 [==============================] - 43s 18ms/step - loss: 0.6932 - accuracy: 0.5002 - val_loss: 0.6932 - val_accuracy: 0.5000\n",
      "Epoch 7/25\n",
      "2344/2344 [==============================] - 43s 18ms/step - loss: 0.6932 - accuracy: 0.5003 - val_loss: 0.6932 - val_accuracy: 0.5000\n",
      "Epoch 8/25\n",
      "2344/2344 [==============================] - 45s 19ms/step - loss: 0.6932 - accuracy: 0.4995 - val_loss: 0.6932 - val_accuracy: 0.5000\n",
      "Epoch 9/25\n",
      "2344/2344 [==============================] - 42s 18ms/step - loss: 0.6932 - accuracy: 0.4999 - val_loss: 0.6932 - val_accuracy: 0.5000\n",
      "Epoch 10/25\n",
      "2344/2344 [==============================] - 42s 18ms/step - loss: 0.6932 - accuracy: 0.4997 - val_loss: 0.6932 - val_accuracy: 0.5000\n",
      "Example misclassified for class 0\n",
      "Data : target    0                  \n",
      "text      woke late zoo today\n",
      "Name: 547295, dtype: object\n",
      "\n",
      "Example misclassified for class 1\n",
      "Data : target    1                                                    \n",
      "text      sore showing old school skills diving board yesterday\n",
      "Name: 1237824, dtype: object\n",
      "\n",
      "Example misclassified for class 1\n",
      "Data : target    1                        \n",
      "text      sugarsharrk Thanks girlie\n",
      "Name: 1099720, dtype: object\n",
      "\n",
      "Example misclassified for class 0\n",
      "Data : target    0                                                                                          \n",
      "text      school tomorrow lameatleast taks withsummer needs comelike right nowso much look forward to\n",
      "Name: 67327, dtype: object\n",
      "Accuracy: 0.5\n",
      "Precision: 0.0\n",
      "Recall: 0.0\n",
      "F1_score: 0.0\n",
      "\n",
      "              precision    recall  f1-score   support\n",
      "\n",
      "           0       0.50      1.00      0.67    200000\n",
      "           1       0.00      0.00      0.00    200000\n",
      "\n",
      "    accuracy                           0.50    400000\n",
      "   macro avg       0.25      0.50      0.33    400000\n",
      "weighted avg       0.25      0.50      0.33    400000\n",
      "\n"
     ]
    },
    {
     "data": {
      "image/png": "[encoded data removed]",
      "text/plain": [
       "<Figure size 432x432 with 2 Axes>"
      ]
     },
     "metadata": {
      "needs_background": "light"
     },
     "output_type": "display_data"
    }
   ],
   "source": [
    "def noRegularizationModel(module_url, embed_size, name, trainable=False):\n",
    "    \n",
    "    hub_layer = hub.KerasLayer(module_url, input_shape = [], \n",
    "                               output_shape=[embed_size], \n",
    "                               dtype=tf.string, \n",
    "                               trainable=trainable)\n",
    "\n",
    "    model = tf.keras.models.Sequential([\n",
    "                                      hub_layer,\n",
    "                                      tf.keras.layers.Dropout(0.4),\n",
    "                                      tf.keras.layers.Dense(112, activation='relu'),\n",
    "                                      tf.keras.layers.Dropout(0.25),\n",
    "                                      tf.keras.layers.Dense(96, activation='relu'),\n",
    "                                      tf.keras.layers.Dropout(0.25),\n",
    "                                      tf.keras.layers.Dense(80, activation='relu'),\n",
    "                                      tf.keras.layers.Dropout(0.2),\n",
    "                                      tf.keras.layers.Dense(64, activation='relu'),\n",
    "                                      tf.keras.layers.Dropout(0.1),\n",
    "                                      tf.keras.layers.Dense(32, activation='relu'),\n",
    "                                      tf.keras.layers.Dropout(0.1),\n",
    "                                      tf.keras.layers.Dense(1, activation='sigmoid')            \n",
    "                                      ])\n",
    "    \n",
    "    reduce_lr = tf.keras.callbacks.ReduceLROnPlateau(monitor='val_loss', factor=0.1, patience=5, min_lr=0.001)\n",
    "    \n",
    "    # Compile the model with the appropriate loss function; Use accuracy as a metric.\n",
    "    model.compile(optimizer=tf.keras.optimizers.Adam(learning_rate=0.005),\n",
    "                  loss = tf.losses.BinaryCrossentropy(),\n",
    "                  metrics=[tf.metrics.BinaryAccuracy(name='accuracy')])\n",
    "\n",
    "    # Print the model summary.\n",
    "    model.summary()\n",
    "\n",
    "    history = model.fit(train_df['text'].values, train_df['target'], \n",
    "                      epochs=25, \n",
    "                      batch_size=512, \n",
    "                      validation_data=(valid_df['text'], valid_df['target']),\n",
    "                      callbacks=[tfdocs.modeling.EpochDots(),\n",
    "                                 tf.keras.callbacks.EarlyStopping(monitor='val_loss', \n",
    "                                                                  patience=5, \n",
    "                                                                  mode='min')],\n",
    "                      verbose=1)\n",
    "  \n",
    "    return model, history\n",
    "\n",
    "noRegModel, histories['nnlm-en-dim128/2-NoRegularization'] = train_and_evaluate_model(module_url=module_url, \n",
    "                                             embed_size=128, \n",
    "                                             name='nnlm-en-dim128/2-NoRegularization',\n",
    "                                             trainable=False)\n",
    "\n",
    "modelValidator(validation=valid_df['text'], actuals=valid_df['target'], model=noRegModel)"
   ]
  },
  {
   "cell_type": "code",
   "execution_count": 24,
   "metadata": {
    "colab": {
     "base_uri": "https://localhost:8080/",
     "height": 1000
    },
    "id": "Hh_B38Z3HmfE",
    "outputId": "d274e998-538a-4df6-e7f2-bbf027a4e41d"
   },
   "outputs": [
    {
     "name": "stdout",
     "output_type": "stream",
     "text": [
      "Model: \"sequential_2\"\n",
      "_________________________________________________________________\n",
      " Layer (type)                Output Shape              Param #   \n",
      "=================================================================\n",
      " keras_layer_3 (KerasLayer)  (None, 128)               124642688 \n",
      "                                                                 \n",
      " dense_12 (Dense)            (None, 112)               14448     \n",
      "                                                                 \n",
      " dense_13 (Dense)            (None, 96)                10848     \n",
      "                                                                 \n",
      " dense_14 (Dense)            (None, 80)                7760      \n",
      "                                                                 \n",
      " dense_15 (Dense)            (None, 64)                5184      \n",
      "                                                                 \n",
      " dense_16 (Dense)            (None, 32)                2080      \n",
      "                                                                 \n",
      " dense_17 (Dense)            (None, 1)                 33        \n",
      "                                                                 \n",
      "=================================================================\n",
      "Total params: 124,683,041\n",
      "Trainable params: 40,353\n",
      "Non-trainable params: 124,642,688\n",
      "_________________________________________________________________\n",
      "Epoch 1/25\n",
      "2342/2344 [============================>.] - ETA: 0s - loss: 0.7119 - accuracy: 0.5002\n",
      "Epoch: 0, accuracy:0.5002,  loss:0.7119,  val_accuracy:0.5000,  val_loss:0.6931,  \n",
      "2344/2344 [==============================] - 42s 18ms/step - loss: 0.7119 - accuracy: 0.5002 - val_loss: 0.6931 - val_accuracy: 0.5000\n",
      "Epoch 2/25\n",
      "2344/2344 [==============================] - 43s 18ms/step - loss: 0.6932 - accuracy: 0.4992 - val_loss: 0.6932 - val_accuracy: 0.5000\n",
      "Epoch 3/25\n",
      "2344/2344 [==============================] - 42s 18ms/step - loss: 0.6932 - accuracy: 0.5003 - val_loss: 0.6932 - val_accuracy: 0.5000\n",
      "Epoch 4/25\n",
      "2344/2344 [==============================] - 42s 18ms/step - loss: 0.6932 - accuracy: 0.5005 - val_loss: 0.6932 - val_accuracy: 0.5000\n",
      "Epoch 5/25\n",
      "2344/2344 [==============================] - 42s 18ms/step - loss: 0.6932 - accuracy: 0.4996 - val_loss: 0.6931 - val_accuracy: 0.5000\n",
      "Epoch 6/25\n",
      "2344/2344 [==============================] - 41s 18ms/step - loss: 0.6932 - accuracy: 0.5001 - val_loss: 0.6932 - val_accuracy: 0.5000\n",
      "Example misclassified for class 0\n",
      "Data : target    0                  \n",
      "text      woke late zoo today\n",
      "Name: 547295, dtype: object\n",
      "\n",
      "Example misclassified for class 1\n",
      "Data : target    1                                                    \n",
      "text      sore showing old school skills diving board yesterday\n",
      "Name: 1237824, dtype: object\n",
      "\n",
      "Example misclassified for class 1\n",
      "Data : target    1                        \n",
      "text      sugarsharrk Thanks girlie\n",
      "Name: 1099720, dtype: object\n",
      "\n",
      "Example misclassified for class 0\n",
      "Data : target    0                                                                                          \n",
      "text      school tomorrow lameatleast taks withsummer needs comelike right nowso much look forward to\n",
      "Name: 67327, dtype: object\n",
      "Accuracy: 0.5\n",
      "Precision: 0.0\n",
      "Recall: 0.0\n",
      "F1_score: 0.0\n",
      "\n",
      "              precision    recall  f1-score   support\n",
      "\n",
      "           0       0.50      1.00      0.67    200000\n",
      "           1       0.00      0.00      0.00    200000\n",
      "\n",
      "    accuracy                           0.50    400000\n",
      "   macro avg       0.25      0.50      0.33    400000\n",
      "weighted avg       0.25      0.50      0.33    400000\n",
      "\n"
     ]
    },
    {
     "data": {
      "image/png": "[encoded data removed]",
      "text/plain": [
       "<Figure size 432x432 with 2 Axes>"
      ]
     },
     "metadata": {
      "needs_background": "light"
     },
     "output_type": "display_data"
    }
   ],
   "source": [
    "def noDropoutModel(module_url, embed_size, name, trainable=False):\n",
    "    \n",
    "    hub_layer = hub.KerasLayer(module_url, input_shape = [], \n",
    "                               output_shape=[embed_size], \n",
    "                               dtype=tf.string, \n",
    "                               trainable=trainable)\n",
    "    \n",
    "    model = tf.keras.models.Sequential([\n",
    "                                      hub_layer, \n",
    "                                      tf.keras.layers.Dense(112, activation='relu', kernel_regularizer=regularizers.L2(0.01)),\n",
    "                                      tf.keras.layers.Dense(96, activation='relu', kernel_regularizer=regularizers.L2(0.01)),\n",
    "                                      tf.keras.layers.Dense(80, activation='relu', kernel_regularizer=regularizers.L2(0.01)),\n",
    "                                      tf.keras.layers.Dense(64, activation='relu', kernel_regularizer=regularizers.L2(0.01)),\n",
    "                                      tf.keras.layers.Dense(32, activation='relu', kernel_regularizer=regularizers.L2(0.01)),\n",
    "                                      tf.keras.layers.Dense(1, activation='sigmoid')             \n",
    "                                      ])\n",
    "    \n",
    "    reduce_lr = tf.keras.callbacks.ReduceLROnPlateau(monitor='val_loss', factor=0.1, patience=5, min_lr=0.001)\n",
    "    \n",
    "    # Compile the model with the appropriate loss function; Use accuracy as a metric.\n",
    "    model.compile(optimizer=tf.keras.optimizers.Adam(learning_rate=0.005, clipvalue=0.5),\n",
    "                  loss = tf.losses.BinaryCrossentropy(),\n",
    "                  metrics=[tf.metrics.BinaryAccuracy(name='accuracy')])\n",
    "\n",
    "    # Print the model summary.\n",
    "    model.summary()\n",
    "\n",
    "    history = model.fit(train_df['text'].values, train_df['target'], \n",
    "                      epochs=25, \n",
    "                      batch_size=512, \n",
    "                      validation_data=(valid_df['text'], valid_df['target']),\n",
    "                      callbacks=[tfdocs.modeling.EpochDots(),\n",
    "                                 tf.keras.callbacks.EarlyStopping(monitor='val_loss', \n",
    "                                                                  patience=5, \n",
    "                                                                  mode='min'),\n",
    "                                 tf.keras.callbacks.TensorBoard(log_dir=logdir/name)],\n",
    "                      verbose=1)\n",
    "  \n",
    "    return model, history\n",
    "\n",
    "\n",
    "noDropoutModel, histories['nnlm-en-dim128/2-noDropout'] = noDropoutModel(module_url=module_url, \n",
    "                                             embed_size=128, \n",
    "                                             name='nnlm-en-dim128/2-noDropout',\n",
    "                                             trainable=False)\n",
    "\n",
    "modelValidator(validation=valid_df['text'], actuals=valid_df['target'], model=noDropoutModel)"
   ]
  },
  {
   "cell_type": "code",
   "execution_count": 25,
   "metadata": {
    "colab": {
     "base_uri": "https://localhost:8080/",
     "height": 1000
    },
    "id": "J3nf4sv5BZ1C",
    "outputId": "45be309a-8b51-408a-b58f-755eeb70a230"
   },
   "outputs": [
    {
     "data": {
      "image/png": "[encoded data removed]",
      "text/plain": [
       "<Figure size 864x576 with 1 Axes>"
      ]
     },
     "metadata": {
      "needs_background": "light"
     },
     "output_type": "display_data"
    },
    {
     "data": {
      "image/png": "[encoded data removed]",
      "text/plain": [
       "<Figure size 864x576 with 1 Axes>"
      ]
     },
     "metadata": {
      "needs_background": "light"
     },
     "output_type": "display_data"
    }
   ],
   "source": [
    "plotAccuracy(histories)\n",
    "plotLosses(histories)"
   ]
  },
  {
   "cell_type": "markdown",
   "metadata": {},
   "source": [
    "#### Observations:\n",
    "- LSTM with tokenization & padding gives better results as compared to NNLM embeddings.\n",
    "- Maybe because NNLM is Token based text embedding trained on English Google News 200B corpus which might be not reflective of the current dataset.\n",
    "- An embedding created on the corpus of this data might have yielded better results than using pre-trained embedding.\n",
    "- Adam & RmsProp both saturate after a while with no change in loss/accuracy & the callbacks ensure that the model stops training if no change happens.\n",
    "- The model was unable to classify class \"Positive\".\n",
    "- Given that the specified network architecture stated to keep \"5\" hidden layers, the model was unable to learn the underlying pattern.\n",
    "- A smaller network architecture with 2 hidden layers yielded 17% better accuracy with both classes being classified.\n",
    "- The loss function has a lot of fluctuations in a small range when it comes to the network with \"No Dropouts added\".\n",
    "- Comparatively the model learnt significantly with both Regularization & drop-outs in place.\n",
    "- Adam with learning_rate=0.005 was used, ideally the choice is to use ReduceLrOnPlateau in conjunction as a callback to ensure the model learns in a steep fashion w.r.t gradient changes.\n",
    "- There was no vanishing gradient or explosion case seen.\n",
    "- For text based embeddings, using ANN as compared to LSTM doesn't help much because it doesn't capture the temporal nature of the text component."
   ]
  }
 ],
 "metadata": {
  "accelerator": "GPU",
  "colab": {
   "collapsed_sections": [],
   "name": "DL Assignment.ipynb",
   "provenance": []
  },
  "gpuClass": "standard",
  "kernelspec": {
   "display_name": "Python 3",
   "language": "python",
   "name": "python3"
  },
  "language_info": {
   "codemirror_mode": {
    "name": "ipython",
    "version": 3
   },
   "file_extension": ".py",
   "mimetype": "text/x-python",
   "name": "python",
   "nbconvert_exporter": "python",
   "pygments_lexer": "ipython3",
   "version": "3.7.3"
  }
 },
 "nbformat": 4,
 "nbformat_minor": 1
}
